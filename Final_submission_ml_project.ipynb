{
  "nbformat": 4,
  "nbformat_minor": 0,
  "metadata": {
    "colab": {
      "name": "Final_submission_ml_project.ipynb",
      "provenance": []
    },
    "kernelspec": {
      "name": "python3",
      "display_name": "Python 3"
    },
    "language_info": {
      "name": "python"
    }
  },
  "cells": [
    {
      "cell_type": "code",
      "metadata": {
        "colab": {
          "base_uri": "https://localhost:8080/"
        },
        "id": "F0NvQpQY2GWn",
        "outputId": "6f26cf69-eddd-4bf1-8760-a488622f0b53"
      },
      "source": [
        "# from google.colab import drive\n",
        "# drive.mount('/content/drive')"
      ],
      "execution_count": 242,
      "outputs": [
        {
          "output_type": "stream",
          "name": "stdout",
          "text": [
            "Drive already mounted at /content/drive; to attempt to forcibly remount, call drive.mount(\"/content/drive\", force_remount=True).\n"
          ]
        }
      ]
    },
    {
      "cell_type": "markdown",
      "metadata": {
        "id": "Es_9fwDd2cIm"
      },
      "source": [
        "Exploratory Data Analysis"
      ]
    },
    {
      "cell_type": "code",
      "metadata": {
        "id": "qO0_qRpo2bJj"
      },
      "source": [
        "#import libraries\n",
        "import pandas as pd\n",
        "import numpy as np\n",
        "import matplotlib.pyplot as plt\n",
        "import seaborn as sns\n",
        "from sklearn.model_selection import train_test_split\n",
        "from sklearn.ensemble import  RandomForestClassifier,AdaBoostClassifier, GradientBoostingClassifier\n",
        "from sklearn.metrics import classification_report, confusion_matrix\n",
        "\n"
      ],
      "execution_count": 74,
      "outputs": []
    },
    {
      "cell_type": "code",
      "metadata": {
        "id": "gBidygj9251k"
      },
      "source": [
        "#import data\n",
        "train_df=pd.read_csv('training_set_features.csv')\n",
        "labels_df=pd.read_csv('training_set_labels.csv')\n",
        "test_df=pd.read_csv('test_set_features.csv')"
      ],
      "execution_count": 22,
      "outputs": []
    },
    {
      "cell_type": "markdown",
      "metadata": {
        "id": "vlnky6PEBwVh"
      },
      "source": [
        "# EDA"
      ]
    },
    {
      "cell_type": "code",
      "metadata": {
        "id": "x8tFWyaDAb9D"
      },
      "source": [
        "train_copy = train_df.copy()\n",
        "train_copy_df = train_copy.merge(labels_df, on='id')"
      ],
      "execution_count": 23,
      "outputs": []
    },
    {
      "cell_type": "code",
      "metadata": {
        "colab": {
          "base_uri": "https://localhost:8080/"
        },
        "id": "TBDv260NAn2X",
        "outputId": "b7d35d30-5aaa-42ca-d1d4-806fc6d20843"
      },
      "source": [
        "train_copy_df['status_group'].value_counts()"
      ],
      "execution_count": 24,
      "outputs": [
        {
          "output_type": "execute_result",
          "data": {
            "text/plain": [
              "functional                 32259\n",
              "non functional             22824\n",
              "functional needs repair     4317\n",
              "Name: status_group, dtype: int64"
            ]
          },
          "metadata": {},
          "execution_count": 24
        }
      ]
    },
    {
      "cell_type": "code",
      "metadata": {
        "colab": {
          "base_uri": "https://localhost:8080/"
        },
        "id": "LIR8LQs6BUaH",
        "outputId": "d0befe34-79e5-45d3-ecae-728f19ddbb44"
      },
      "source": [
        "test_copy = test_df.copy()\n",
        "test_copy['status_group'] = 'unk'\n",
        "test_copy['status_group'].value_counts()"
      ],
      "execution_count": 25,
      "outputs": [
        {
          "output_type": "execute_result",
          "data": {
            "text/plain": [
              "unk    14850\n",
              "Name: status_group, dtype: int64"
            ]
          },
          "metadata": {},
          "execution_count": 25
        }
      ]
    },
    {
      "cell_type": "code",
      "metadata": {
        "id": "u5CYuJKfB0qb"
      },
      "source": [
        "train_test_df = train_copy_df.append(test_copy, ignore_index=True, sort=False)"
      ],
      "execution_count": 26,
      "outputs": []
    },
    {
      "cell_type": "code",
      "metadata": {
        "colab": {
          "base_uri": "https://localhost:8080/"
        },
        "id": "nTY-tpqfB8t2",
        "outputId": "fde5021f-87d9-40df-a284-b9023d7b47a3"
      },
      "source": [
        "train_test_df.head"
      ],
      "execution_count": 27,
      "outputs": [
        {
          "output_type": "execute_result",
          "data": {
            "text/plain": [
              "<bound method NDFrame.head of           id  amount_tsh  ... waterpoint_type_group    status_group\n",
              "0      69572      6000.0  ...    communal standpipe      functional\n",
              "1       8776         0.0  ...    communal standpipe      functional\n",
              "2      34310        25.0  ...    communal standpipe      functional\n",
              "3      67743         0.0  ...    communal standpipe  non functional\n",
              "4      19728         0.0  ...    communal standpipe      functional\n",
              "...      ...         ...  ...                   ...             ...\n",
              "74245  39307         0.0  ...    communal standpipe             unk\n",
              "74246  18990      1000.0  ...             hand pump             unk\n",
              "74247  28749         0.0  ...    communal standpipe             unk\n",
              "74248  33492         0.0  ...    communal standpipe             unk\n",
              "74249  68707         0.0  ...    communal standpipe             unk\n",
              "\n",
              "[74250 rows x 41 columns]>"
            ]
          },
          "metadata": {},
          "execution_count": 27
        }
      ]
    },
    {
      "cell_type": "code",
      "metadata": {
        "colab": {
          "base_uri": "https://localhost:8080/",
          "height": 350
        },
        "id": "sCdwbDAxCOhg",
        "outputId": "8a43203a-36f7-4bb2-98fd-0baefd64cd0e"
      },
      "source": [
        "fig = sns.countplot(train_test_df['status_group'])\n",
        "plt.title('Target Histogram')\n",
        "plt.show(fig)"
      ],
      "execution_count": 28,
      "outputs": [
        {
          "output_type": "stream",
          "name": "stderr",
          "text": [
            "/usr/local/lib/python3.7/dist-packages/seaborn/_decorators.py:43: FutureWarning: Pass the following variable as a keyword arg: x. From version 0.12, the only valid positional argument will be `data`, and passing other arguments without an explicit keyword will result in an error or misinterpretation.\n",
            "  FutureWarning\n"
          ]
        },
        {
          "output_type": "display_data",
          "data": {
            "image/png": "[encoded data removed]",
            "text/plain": [
              "<Figure size 432x288 with 1 Axes>"
            ]
          },
          "metadata": {
            "needs_background": "light"
          }
        }
      ]
    },
    {
      "cell_type": "code",
      "metadata": {
        "colab": {
          "base_uri": "https://localhost:8080/"
        },
        "id": "hZ2q2Q0TO6e0",
        "outputId": "52653d00-15b8-4e34-9dd6-f2afc4eb97ac"
      },
      "source": [
        "train_test_df['wpt_name'].value_counts()"
      ],
      "execution_count": 29,
      "outputs": [
        {
          "output_type": "execute_result",
          "data": {
            "text/plain": [
              "none                   4440\n",
              "Shuleni                2183\n",
              "Zahanati               1034\n",
              "Msikitini               647\n",
              "Kanisani                390\n",
              "                       ... \n",
              "Kwa Malunga               1\n",
              "Kwa Scauti Mkandala       1\n",
              "Kwa Daudi Wange           1\n",
              "Ruhende                   1\n",
              "Kisina                    1\n",
              "Name: wpt_name, Length: 45684, dtype: int64"
            ]
          },
          "metadata": {},
          "execution_count": 29
        }
      ]
    },
    {
      "cell_type": "code",
      "metadata": {
        "id": "xeYMOCoLE91Y"
      },
      "source": [
        "# fig = sns.distplot(train_test_df['amount_tsh'])\n",
        "# plt.title('Amount of water')\n",
        "# plt.show(fig)"
      ],
      "execution_count": 30,
      "outputs": []
    },
    {
      "cell_type": "code",
      "metadata": {
        "colab": {
          "base_uri": "https://localhost:8080/",
          "height": 295
        },
        "id": "Unim1Rua3NUa",
        "outputId": "322db319-8ef3-4587-d5fe-1603fc7ce625"
      },
      "source": [
        "train_df.describe()"
      ],
      "execution_count": 31,
      "outputs": [
        {
          "output_type": "execute_result",
          "data": {
            "text/html": [
              "<div>\n",
              "<style scoped>\n",
              "    .dataframe tbody tr th:only-of-type {\n",
              "        vertical-align: middle;\n",
              "    }\n",
              "\n",
              "    .dataframe tbody tr th {\n",
              "        vertical-align: top;\n",
              "    }\n",
              "\n",
              "    .dataframe thead th {\n",
              "        text-align: right;\n",
              "    }\n",
              "</style>\n",
              "<table border=\"1\" class=\"dataframe\">\n",
              "  <thead>\n",
              "    <tr style=\"text-align: right;\">\n",
              "      <th></th>\n",
              "      <th>id</th>\n",
              "      <th>amount_tsh</th>\n",
              "      <th>gps_height</th>\n",
              "      <th>longitude</th>\n",
              "      <th>latitude</th>\n",
              "      <th>num_private</th>\n",
              "      <th>region_code</th>\n",
              "      <th>district_code</th>\n",
              "      <th>population</th>\n",
              "      <th>construction_year</th>\n",
              "    </tr>\n",
              "  </thead>\n",
              "  <tbody>\n",
              "    <tr>\n",
              "      <th>count</th>\n",
              "      <td>59400.000000</td>\n",
              "      <td>59400.000000</td>\n",
              "      <td>59400.000000</td>\n",
              "      <td>59400.000000</td>\n",
              "      <td>5.940000e+04</td>\n",
              "      <td>59400.000000</td>\n",
              "      <td>59400.000000</td>\n",
              "      <td>59400.000000</td>\n",
              "      <td>59400.000000</td>\n",
              "      <td>59400.000000</td>\n",
              "    </tr>\n",
              "    <tr>\n",
              "      <th>mean</th>\n",
              "      <td>37115.131768</td>\n",
              "      <td>317.650385</td>\n",
              "      <td>668.297239</td>\n",
              "      <td>34.077427</td>\n",
              "      <td>-5.706033e+00</td>\n",
              "      <td>0.474141</td>\n",
              "      <td>15.297003</td>\n",
              "      <td>5.629747</td>\n",
              "      <td>179.909983</td>\n",
              "      <td>1300.652475</td>\n",
              "    </tr>\n",
              "    <tr>\n",
              "      <th>std</th>\n",
              "      <td>21453.128371</td>\n",
              "      <td>2997.574558</td>\n",
              "      <td>693.116350</td>\n",
              "      <td>6.567432</td>\n",
              "      <td>2.946019e+00</td>\n",
              "      <td>12.236230</td>\n",
              "      <td>17.587406</td>\n",
              "      <td>9.633649</td>\n",
              "      <td>471.482176</td>\n",
              "      <td>951.620547</td>\n",
              "    </tr>\n",
              "    <tr>\n",
              "      <th>min</th>\n",
              "      <td>0.000000</td>\n",
              "      <td>0.000000</td>\n",
              "      <td>-90.000000</td>\n",
              "      <td>0.000000</td>\n",
              "      <td>-1.164944e+01</td>\n",
              "      <td>0.000000</td>\n",
              "      <td>1.000000</td>\n",
              "      <td>0.000000</td>\n",
              "      <td>0.000000</td>\n",
              "      <td>0.000000</td>\n",
              "    </tr>\n",
              "    <tr>\n",
              "      <th>25%</th>\n",
              "      <td>18519.750000</td>\n",
              "      <td>0.000000</td>\n",
              "      <td>0.000000</td>\n",
              "      <td>33.090347</td>\n",
              "      <td>-8.540621e+00</td>\n",
              "      <td>0.000000</td>\n",
              "      <td>5.000000</td>\n",
              "      <td>2.000000</td>\n",
              "      <td>0.000000</td>\n",
              "      <td>0.000000</td>\n",
              "    </tr>\n",
              "    <tr>\n",
              "      <th>50%</th>\n",
              "      <td>37061.500000</td>\n",
              "      <td>0.000000</td>\n",
              "      <td>369.000000</td>\n",
              "      <td>34.908743</td>\n",
              "      <td>-5.021597e+00</td>\n",
              "      <td>0.000000</td>\n",
              "      <td>12.000000</td>\n",
              "      <td>3.000000</td>\n",
              "      <td>25.000000</td>\n",
              "      <td>1986.000000</td>\n",
              "    </tr>\n",
              "    <tr>\n",
              "      <th>75%</th>\n",
              "      <td>55656.500000</td>\n",
              "      <td>20.000000</td>\n",
              "      <td>1319.250000</td>\n",
              "      <td>37.178387</td>\n",
              "      <td>-3.326156e+00</td>\n",
              "      <td>0.000000</td>\n",
              "      <td>17.000000</td>\n",
              "      <td>5.000000</td>\n",
              "      <td>215.000000</td>\n",
              "      <td>2004.000000</td>\n",
              "    </tr>\n",
              "    <tr>\n",
              "      <th>max</th>\n",
              "      <td>74247.000000</td>\n",
              "      <td>350000.000000</td>\n",
              "      <td>2770.000000</td>\n",
              "      <td>40.345193</td>\n",
              "      <td>-2.000000e-08</td>\n",
              "      <td>1776.000000</td>\n",
              "      <td>99.000000</td>\n",
              "      <td>80.000000</td>\n",
              "      <td>30500.000000</td>\n",
              "      <td>2013.000000</td>\n",
              "    </tr>\n",
              "  </tbody>\n",
              "</table>\n",
              "</div>"
            ],
            "text/plain": [
              "                 id     amount_tsh  ...    population  construction_year\n",
              "count  59400.000000   59400.000000  ...  59400.000000       59400.000000\n",
              "mean   37115.131768     317.650385  ...    179.909983        1300.652475\n",
              "std    21453.128371    2997.574558  ...    471.482176         951.620547\n",
              "min        0.000000       0.000000  ...      0.000000           0.000000\n",
              "25%    18519.750000       0.000000  ...      0.000000           0.000000\n",
              "50%    37061.500000       0.000000  ...     25.000000        1986.000000\n",
              "75%    55656.500000      20.000000  ...    215.000000        2004.000000\n",
              "max    74247.000000  350000.000000  ...  30500.000000        2013.000000\n",
              "\n",
              "[8 rows x 10 columns]"
            ]
          },
          "metadata": {},
          "execution_count": 31
        }
      ]
    },
    {
      "cell_type": "code",
      "metadata": {
        "colab": {
          "base_uri": "https://localhost:8080/"
        },
        "id": "Dsah8pPJ3Uho",
        "outputId": "7a6197d1-1ea7-4292-b367-e920c0e58a3a"
      },
      "source": [
        "train_df.head"
      ],
      "execution_count": 32,
      "outputs": [
        {
          "output_type": "execute_result",
          "data": {
            "text/plain": [
              "<bound method NDFrame.head of           id  amount_tsh  ...              waterpoint_type waterpoint_type_group\n",
              "0      69572      6000.0  ...           communal standpipe    communal standpipe\n",
              "1       8776         0.0  ...           communal standpipe    communal standpipe\n",
              "2      34310        25.0  ...  communal standpipe multiple    communal standpipe\n",
              "3      67743         0.0  ...  communal standpipe multiple    communal standpipe\n",
              "4      19728         0.0  ...           communal standpipe    communal standpipe\n",
              "...      ...         ...  ...                          ...                   ...\n",
              "59395  60739        10.0  ...           communal standpipe    communal standpipe\n",
              "59396  27263      4700.0  ...           communal standpipe    communal standpipe\n",
              "59397  37057         0.0  ...                    hand pump             hand pump\n",
              "59398  31282         0.0  ...                    hand pump             hand pump\n",
              "59399  26348         0.0  ...                    hand pump             hand pump\n",
              "\n",
              "[59400 rows x 40 columns]>"
            ]
          },
          "metadata": {},
          "execution_count": 32
        }
      ]
    },
    {
      "cell_type": "code",
      "metadata": {
        "colab": {
          "base_uri": "https://localhost:8080/",
          "height": 295
        },
        "id": "UtqlxJEL3YSB",
        "outputId": "896e2773-4d4f-4ecf-9fd6-4d404ab4b0d6"
      },
      "source": [
        "test_df.describe()\n"
      ],
      "execution_count": 33,
      "outputs": [
        {
          "output_type": "execute_result",
          "data": {
            "text/html": [
              "<div>\n",
              "<style scoped>\n",
              "    .dataframe tbody tr th:only-of-type {\n",
              "        vertical-align: middle;\n",
              "    }\n",
              "\n",
              "    .dataframe tbody tr th {\n",
              "        vertical-align: top;\n",
              "    }\n",
              "\n",
              "    .dataframe thead th {\n",
              "        text-align: right;\n",
              "    }\n",
              "</style>\n",
              "<table border=\"1\" class=\"dataframe\">\n",
              "  <thead>\n",
              "    <tr style=\"text-align: right;\">\n",
              "      <th></th>\n",
              "      <th>id</th>\n",
              "      <th>amount_tsh</th>\n",
              "      <th>gps_height</th>\n",
              "      <th>longitude</th>\n",
              "      <th>latitude</th>\n",
              "      <th>num_private</th>\n",
              "      <th>region_code</th>\n",
              "      <th>district_code</th>\n",
              "      <th>population</th>\n",
              "      <th>construction_year</th>\n",
              "    </tr>\n",
              "  </thead>\n",
              "  <tbody>\n",
              "    <tr>\n",
              "      <th>count</th>\n",
              "      <td>14850.000000</td>\n",
              "      <td>14850.000000</td>\n",
              "      <td>14850.000000</td>\n",
              "      <td>14850.000000</td>\n",
              "      <td>1.485000e+04</td>\n",
              "      <td>14850.000000</td>\n",
              "      <td>14850.000000</td>\n",
              "      <td>14850.000000</td>\n",
              "      <td>14850.000000</td>\n",
              "      <td>14850.000000</td>\n",
              "    </tr>\n",
              "    <tr>\n",
              "      <th>mean</th>\n",
              "      <td>37161.972929</td>\n",
              "      <td>322.826983</td>\n",
              "      <td>655.147609</td>\n",
              "      <td>34.061605</td>\n",
              "      <td>-5.684724e+00</td>\n",
              "      <td>0.415084</td>\n",
              "      <td>15.139057</td>\n",
              "      <td>5.626397</td>\n",
              "      <td>184.114209</td>\n",
              "      <td>1289.708350</td>\n",
              "    </tr>\n",
              "    <tr>\n",
              "      <th>std</th>\n",
              "      <td>21359.364833</td>\n",
              "      <td>2510.968644</td>\n",
              "      <td>691.261185</td>\n",
              "      <td>6.593034</td>\n",
              "      <td>2.940803e+00</td>\n",
              "      <td>8.167910</td>\n",
              "      <td>17.191329</td>\n",
              "      <td>9.673842</td>\n",
              "      <td>469.499332</td>\n",
              "      <td>955.241087</td>\n",
              "    </tr>\n",
              "    <tr>\n",
              "      <th>min</th>\n",
              "      <td>10.000000</td>\n",
              "      <td>0.000000</td>\n",
              "      <td>-57.000000</td>\n",
              "      <td>0.000000</td>\n",
              "      <td>-1.156459e+01</td>\n",
              "      <td>0.000000</td>\n",
              "      <td>1.000000</td>\n",
              "      <td>0.000000</td>\n",
              "      <td>0.000000</td>\n",
              "      <td>0.000000</td>\n",
              "    </tr>\n",
              "    <tr>\n",
              "      <th>25%</th>\n",
              "      <td>18727.000000</td>\n",
              "      <td>0.000000</td>\n",
              "      <td>0.000000</td>\n",
              "      <td>33.069455</td>\n",
              "      <td>-8.443970e+00</td>\n",
              "      <td>0.000000</td>\n",
              "      <td>5.000000</td>\n",
              "      <td>2.000000</td>\n",
              "      <td>0.000000</td>\n",
              "      <td>0.000000</td>\n",
              "    </tr>\n",
              "    <tr>\n",
              "      <th>50%</th>\n",
              "      <td>37361.500000</td>\n",
              "      <td>0.000000</td>\n",
              "      <td>344.000000</td>\n",
              "      <td>34.901215</td>\n",
              "      <td>-5.049750e+00</td>\n",
              "      <td>0.000000</td>\n",
              "      <td>12.000000</td>\n",
              "      <td>3.000000</td>\n",
              "      <td>20.000000</td>\n",
              "      <td>1986.000000</td>\n",
              "    </tr>\n",
              "    <tr>\n",
              "      <th>75%</th>\n",
              "      <td>55799.750000</td>\n",
              "      <td>25.000000</td>\n",
              "      <td>1308.000000</td>\n",
              "      <td>37.196594</td>\n",
              "      <td>-3.320594e+00</td>\n",
              "      <td>0.000000</td>\n",
              "      <td>17.000000</td>\n",
              "      <td>5.000000</td>\n",
              "      <td>220.000000</td>\n",
              "      <td>2004.000000</td>\n",
              "    </tr>\n",
              "    <tr>\n",
              "      <th>max</th>\n",
              "      <td>74249.000000</td>\n",
              "      <td>200000.000000</td>\n",
              "      <td>2777.000000</td>\n",
              "      <td>40.325016</td>\n",
              "      <td>-2.000000e-08</td>\n",
              "      <td>669.000000</td>\n",
              "      <td>99.000000</td>\n",
              "      <td>80.000000</td>\n",
              "      <td>11469.000000</td>\n",
              "      <td>2013.000000</td>\n",
              "    </tr>\n",
              "  </tbody>\n",
              "</table>\n",
              "</div>"
            ],
            "text/plain": [
              "                 id     amount_tsh  ...    population  construction_year\n",
              "count  14850.000000   14850.000000  ...  14850.000000       14850.000000\n",
              "mean   37161.972929     322.826983  ...    184.114209        1289.708350\n",
              "std    21359.364833    2510.968644  ...    469.499332         955.241087\n",
              "min       10.000000       0.000000  ...      0.000000           0.000000\n",
              "25%    18727.000000       0.000000  ...      0.000000           0.000000\n",
              "50%    37361.500000       0.000000  ...     20.000000        1986.000000\n",
              "75%    55799.750000      25.000000  ...    220.000000        2004.000000\n",
              "max    74249.000000  200000.000000  ...  11469.000000        2013.000000\n",
              "\n",
              "[8 rows x 10 columns]"
            ]
          },
          "metadata": {},
          "execution_count": 33
        }
      ]
    },
    {
      "cell_type": "code",
      "metadata": {
        "colab": {
          "base_uri": "https://localhost:8080/"
        },
        "id": "CuhyM_Mv3m-8",
        "outputId": "8b9ba41b-ecb2-4013-9b89-db273f204449"
      },
      "source": [
        "train_df.info"
      ],
      "execution_count": 34,
      "outputs": [
        {
          "output_type": "execute_result",
          "data": {
            "text/plain": [
              "<bound method DataFrame.info of           id  amount_tsh  ...              waterpoint_type waterpoint_type_group\n",
              "0      69572      6000.0  ...           communal standpipe    communal standpipe\n",
              "1       8776         0.0  ...           communal standpipe    communal standpipe\n",
              "2      34310        25.0  ...  communal standpipe multiple    communal standpipe\n",
              "3      67743         0.0  ...  communal standpipe multiple    communal standpipe\n",
              "4      19728         0.0  ...           communal standpipe    communal standpipe\n",
              "...      ...         ...  ...                          ...                   ...\n",
              "59395  60739        10.0  ...           communal standpipe    communal standpipe\n",
              "59396  27263      4700.0  ...           communal standpipe    communal standpipe\n",
              "59397  37057         0.0  ...                    hand pump             hand pump\n",
              "59398  31282         0.0  ...                    hand pump             hand pump\n",
              "59399  26348         0.0  ...                    hand pump             hand pump\n",
              "\n",
              "[59400 rows x 40 columns]>"
            ]
          },
          "metadata": {},
          "execution_count": 34
        }
      ]
    },
    {
      "cell_type": "code",
      "metadata": {
        "colab": {
          "base_uri": "https://localhost:8080/"
        },
        "id": "nItZc13x3gEe",
        "outputId": "5beda9f5-2bc2-4ecc-a85b-d1517b667170"
      },
      "source": [
        "test_df.info()"
      ],
      "execution_count": 35,
      "outputs": [
        {
          "output_type": "stream",
          "name": "stdout",
          "text": [
            "<class 'pandas.core.frame.DataFrame'>\n",
            "RangeIndex: 14850 entries, 0 to 14849\n",
            "Data columns (total 40 columns):\n",
            " #   Column                 Non-Null Count  Dtype  \n",
            "---  ------                 --------------  -----  \n",
            " 0   id                     14850 non-null  int64  \n",
            " 1   amount_tsh             14850 non-null  float64\n",
            " 2   date_recorded          14850 non-null  object \n",
            " 3   funder                 13981 non-null  object \n",
            " 4   gps_height             14850 non-null  int64  \n",
            " 5   installer              13973 non-null  object \n",
            " 6   longitude              14850 non-null  float64\n",
            " 7   latitude               14850 non-null  float64\n",
            " 8   wpt_name               14850 non-null  object \n",
            " 9   num_private            14850 non-null  int64  \n",
            " 10  basin                  14850 non-null  object \n",
            " 11  subvillage             14751 non-null  object \n",
            " 12  region                 14850 non-null  object \n",
            " 13  region_code            14850 non-null  int64  \n",
            " 14  district_code          14850 non-null  int64  \n",
            " 15  lga                    14850 non-null  object \n",
            " 16  ward                   14850 non-null  object \n",
            " 17  population             14850 non-null  int64  \n",
            " 18  public_meeting         14029 non-null  object \n",
            " 19  recorded_by            14850 non-null  object \n",
            " 20  scheme_management      13881 non-null  object \n",
            " 21  scheme_name            7758 non-null   object \n",
            " 22  permit                 14113 non-null  object \n",
            " 23  construction_year      14850 non-null  int64  \n",
            " 24  extraction_type        14850 non-null  object \n",
            " 25  extraction_type_group  14850 non-null  object \n",
            " 26  extraction_type_class  14850 non-null  object \n",
            " 27  management             14850 non-null  object \n",
            " 28  management_group       14850 non-null  object \n",
            " 29  payment                14850 non-null  object \n",
            " 30  payment_type           14850 non-null  object \n",
            " 31  water_quality          14850 non-null  object \n",
            " 32  quality_group          14850 non-null  object \n",
            " 33  quantity               14850 non-null  object \n",
            " 34  quantity_group         14850 non-null  object \n",
            " 35  source                 14850 non-null  object \n",
            " 36  source_type            14850 non-null  object \n",
            " 37  source_class           14850 non-null  object \n",
            " 38  waterpoint_type        14850 non-null  object \n",
            " 39  waterpoint_type_group  14850 non-null  object \n",
            "dtypes: float64(3), int64(7), object(30)\n",
            "memory usage: 4.5+ MB\n"
          ]
        }
      ]
    },
    {
      "cell_type": "code",
      "metadata": {
        "colab": {
          "base_uri": "https://localhost:8080/"
        },
        "id": "z2FKbTXp3jBv",
        "outputId": "26f05b1e-fd60-4a56-db79-2d7d4aff88bb"
      },
      "source": [
        "train_df.isnull().sum()"
      ],
      "execution_count": 36,
      "outputs": [
        {
          "output_type": "execute_result",
          "data": {
            "text/plain": [
              "id                           0\n",
              "amount_tsh                   0\n",
              "date_recorded                0\n",
              "funder                    3635\n",
              "gps_height                   0\n",
              "installer                 3655\n",
              "longitude                    0\n",
              "latitude                     0\n",
              "wpt_name                     0\n",
              "num_private                  0\n",
              "basin                        0\n",
              "subvillage                 371\n",
              "region                       0\n",
              "region_code                  0\n",
              "district_code                0\n",
              "lga                          0\n",
              "ward                         0\n",
              "population                   0\n",
              "public_meeting            3334\n",
              "recorded_by                  0\n",
              "scheme_management         3877\n",
              "scheme_name              28166\n",
              "permit                    3056\n",
              "construction_year            0\n",
              "extraction_type              0\n",
              "extraction_type_group        0\n",
              "extraction_type_class        0\n",
              "management                   0\n",
              "management_group             0\n",
              "payment                      0\n",
              "payment_type                 0\n",
              "water_quality                0\n",
              "quality_group                0\n",
              "quantity                     0\n",
              "quantity_group               0\n",
              "source                       0\n",
              "source_type                  0\n",
              "source_class                 0\n",
              "waterpoint_type              0\n",
              "waterpoint_type_group        0\n",
              "dtype: int64"
            ]
          },
          "metadata": {},
          "execution_count": 36
        }
      ]
    },
    {
      "cell_type": "code",
      "metadata": {
        "id": "UweKNN-UASn4"
      },
      "source": [
        ""
      ],
      "execution_count": 36,
      "outputs": []
    },
    {
      "cell_type": "code",
      "metadata": {
        "colab": {
          "base_uri": "https://localhost:8080/"
        },
        "id": "IhaL5d6R4FyI",
        "outputId": "31bb5d22-45ed-42d9-bde8-ad8ac28db81a"
      },
      "source": [
        "test_df.isnull().sum()"
      ],
      "execution_count": 37,
      "outputs": [
        {
          "output_type": "execute_result",
          "data": {
            "text/plain": [
              "id                          0\n",
              "amount_tsh                  0\n",
              "date_recorded               0\n",
              "funder                    869\n",
              "gps_height                  0\n",
              "installer                 877\n",
              "longitude                   0\n",
              "latitude                    0\n",
              "wpt_name                    0\n",
              "num_private                 0\n",
              "basin                       0\n",
              "subvillage                 99\n",
              "region                      0\n",
              "region_code                 0\n",
              "district_code               0\n",
              "lga                         0\n",
              "ward                        0\n",
              "population                  0\n",
              "public_meeting            821\n",
              "recorded_by                 0\n",
              "scheme_management         969\n",
              "scheme_name              7092\n",
              "permit                    737\n",
              "construction_year           0\n",
              "extraction_type             0\n",
              "extraction_type_group       0\n",
              "extraction_type_class       0\n",
              "management                  0\n",
              "management_group            0\n",
              "payment                     0\n",
              "payment_type                0\n",
              "water_quality               0\n",
              "quality_group               0\n",
              "quantity                    0\n",
              "quantity_group              0\n",
              "source                      0\n",
              "source_type                 0\n",
              "source_class                0\n",
              "waterpoint_type             0\n",
              "waterpoint_type_group       0\n",
              "dtype: int64"
            ]
          },
          "metadata": {},
          "execution_count": 37
        }
      ]
    },
    {
      "cell_type": "code",
      "metadata": {
        "id": "_AIrgfi44a6I"
      },
      "source": [
        "frame=[train_df,test_df]\n",
        "data=pd.concat(frame)"
      ],
      "execution_count": 38,
      "outputs": []
    },
    {
      "cell_type": "code",
      "metadata": {
        "colab": {
          "base_uri": "https://localhost:8080/"
        },
        "id": "gJh28o43ADpJ",
        "outputId": "25c37e0d-45fb-4847-a78a-2f7a1add8c6b"
      },
      "source": [
        "data.info()"
      ],
      "execution_count": 39,
      "outputs": [
        {
          "output_type": "stream",
          "name": "stdout",
          "text": [
            "<class 'pandas.core.frame.DataFrame'>\n",
            "Int64Index: 74250 entries, 0 to 14849\n",
            "Data columns (total 40 columns):\n",
            " #   Column                 Non-Null Count  Dtype  \n",
            "---  ------                 --------------  -----  \n",
            " 0   id                     74250 non-null  int64  \n",
            " 1   amount_tsh             74250 non-null  float64\n",
            " 2   date_recorded          74250 non-null  object \n",
            " 3   funder                 69746 non-null  object \n",
            " 4   gps_height             74250 non-null  int64  \n",
            " 5   installer              69718 non-null  object \n",
            " 6   longitude              74250 non-null  float64\n",
            " 7   latitude               74250 non-null  float64\n",
            " 8   wpt_name               74250 non-null  object \n",
            " 9   num_private            74250 non-null  int64  \n",
            " 10  basin                  74250 non-null  object \n",
            " 11  subvillage             73780 non-null  object \n",
            " 12  region                 74250 non-null  object \n",
            " 13  region_code            74250 non-null  int64  \n",
            " 14  district_code          74250 non-null  int64  \n",
            " 15  lga                    74250 non-null  object \n",
            " 16  ward                   74250 non-null  object \n",
            " 17  population             74250 non-null  int64  \n",
            " 18  public_meeting         70095 non-null  object \n",
            " 19  recorded_by            74250 non-null  object \n",
            " 20  scheme_management      69404 non-null  object \n",
            " 21  scheme_name            38992 non-null  object \n",
            " 22  permit                 70457 non-null  object \n",
            " 23  construction_year      74250 non-null  int64  \n",
            " 24  extraction_type        74250 non-null  object \n",
            " 25  extraction_type_group  74250 non-null  object \n",
            " 26  extraction_type_class  74250 non-null  object \n",
            " 27  management             74250 non-null  object \n",
            " 28  management_group       74250 non-null  object \n",
            " 29  payment                74250 non-null  object \n",
            " 30  payment_type           74250 non-null  object \n",
            " 31  water_quality          74250 non-null  object \n",
            " 32  quality_group          74250 non-null  object \n",
            " 33  quantity               74250 non-null  object \n",
            " 34  quantity_group         74250 non-null  object \n",
            " 35  source                 74250 non-null  object \n",
            " 36  source_type            74250 non-null  object \n",
            " 37  source_class           74250 non-null  object \n",
            " 38  waterpoint_type        74250 non-null  object \n",
            " 39  waterpoint_type_group  74250 non-null  object \n",
            "dtypes: float64(3), int64(7), object(30)\n",
            "memory usage: 23.2+ MB\n"
          ]
        }
      ]
    },
    {
      "cell_type": "code",
      "metadata": {
        "id": "kUrazeZZPPrB"
      },
      "source": [
        "# data['wpt_name1'] = 1\n",
        "\n",
        "# data.loc[(data['wpt_name'] == 'none'), 'wpt_name1'] = 0\n",
        "# data.loc[:, 'wpt_name1'].value_counts()"
      ],
      "execution_count": 40,
      "outputs": []
    },
    {
      "cell_type": "code",
      "metadata": {
        "id": "eW6EYFMQPhhk"
      },
      "source": [
        "# data.drop('wpt_name',axis=1,inplace=True)"
      ],
      "execution_count": 41,
      "outputs": []
    },
    {
      "cell_type": "code",
      "metadata": {
        "colab": {
          "base_uri": "https://localhost:8080/"
        },
        "id": "G0hKhh9KPwjx",
        "outputId": "cd7ebc3d-1273-4dd0-d4cc-a84c79711761"
      },
      "source": [
        "data.nunique()"
      ],
      "execution_count": 42,
      "outputs": [
        {
          "output_type": "execute_result",
          "data": {
            "text/plain": [
              "id                       74250\n",
              "amount_tsh                 102\n",
              "date_recorded              369\n",
              "funder                    2140\n",
              "gps_height                2456\n",
              "installer                 2410\n",
              "longitude                71870\n",
              "latitude                 71869\n",
              "wpt_name                 45684\n",
              "num_private                 68\n",
              "basin                        9\n",
              "subvillage               21425\n",
              "region                      21\n",
              "region_code                 27\n",
              "district_code               20\n",
              "lga                        125\n",
              "ward                      2098\n",
              "population                1128\n",
              "public_meeting               2\n",
              "recorded_by                  1\n",
              "scheme_management           12\n",
              "scheme_name               2868\n",
              "permit                       2\n",
              "construction_year           55\n",
              "extraction_type             18\n",
              "extraction_type_group       13\n",
              "extraction_type_class        7\n",
              "management                  12\n",
              "management_group             5\n",
              "payment                      7\n",
              "payment_type                 7\n",
              "water_quality                8\n",
              "quality_group                6\n",
              "quantity                     5\n",
              "quantity_group               5\n",
              "source                      10\n",
              "source_type                  7\n",
              "source_class                 3\n",
              "waterpoint_type              7\n",
              "waterpoint_type_group        6\n",
              "dtype: int64"
            ]
          },
          "metadata": {},
          "execution_count": 42
        }
      ]
    },
    {
      "cell_type": "code",
      "metadata": {
        "id": "Zx6AF_p946sA"
      },
      "source": [
        "cat_features=['quantity','management_group','management','extraction_type_class','extraction_type_group',\n",
        "       'extraction_type','permit','scheme_name','scheme_management','public_meeting','ward',\n",
        "       'lga','region','subvillage','basin','waterpoint_type_group','waterpoint_type','source_class',\n",
        "       'source_type','source','quality_group','water_quality','payment_type','wpt_name','payment','installer'\n",
        "       ,'funder','quantity_group']\n",
        "\n",
        "for feat in cat_features:\n",
        "  data[feat]= data[feat].astype('category').cat.codes"
      ],
      "execution_count": 43,
      "outputs": []
    },
    {
      "cell_type": "markdown",
      "metadata": {
        "id": "_yXEHq4yI68J"
      },
      "source": [
        "# Feature Engineering"
      ]
    },
    {
      "cell_type": "code",
      "metadata": {
        "colab": {
          "base_uri": "https://localhost:8080/"
        },
        "id": "sIlDIZ4kLwvJ",
        "outputId": "462397cf-28cd-4e67-add7-e39781b4c3f5"
      },
      "source": [
        "data.info()"
      ],
      "execution_count": 44,
      "outputs": [
        {
          "output_type": "stream",
          "name": "stdout",
          "text": [
            "<class 'pandas.core.frame.DataFrame'>\n",
            "Int64Index: 74250 entries, 0 to 14849\n",
            "Data columns (total 40 columns):\n",
            " #   Column                 Non-Null Count  Dtype  \n",
            "---  ------                 --------------  -----  \n",
            " 0   id                     74250 non-null  int64  \n",
            " 1   amount_tsh             74250 non-null  float64\n",
            " 2   date_recorded          74250 non-null  object \n",
            " 3   funder                 74250 non-null  int16  \n",
            " 4   gps_height             74250 non-null  int64  \n",
            " 5   installer              74250 non-null  int16  \n",
            " 6   longitude              74250 non-null  float64\n",
            " 7   latitude               74250 non-null  float64\n",
            " 8   wpt_name               74250 non-null  int32  \n",
            " 9   num_private            74250 non-null  int64  \n",
            " 10  basin                  74250 non-null  int8   \n",
            " 11  subvillage             74250 non-null  int16  \n",
            " 12  region                 74250 non-null  int8   \n",
            " 13  region_code            74250 non-null  int64  \n",
            " 14  district_code          74250 non-null  int64  \n",
            " 15  lga                    74250 non-null  int8   \n",
            " 16  ward                   74250 non-null  int16  \n",
            " 17  population             74250 non-null  int64  \n",
            " 18  public_meeting         74250 non-null  int8   \n",
            " 19  recorded_by            74250 non-null  object \n",
            " 20  scheme_management      74250 non-null  int8   \n",
            " 21  scheme_name            74250 non-null  int16  \n",
            " 22  permit                 74250 non-null  int8   \n",
            " 23  construction_year      74250 non-null  int64  \n",
            " 24  extraction_type        74250 non-null  int8   \n",
            " 25  extraction_type_group  74250 non-null  int8   \n",
            " 26  extraction_type_class  74250 non-null  int8   \n",
            " 27  management             74250 non-null  int8   \n",
            " 28  management_group       74250 non-null  int8   \n",
            " 29  payment                74250 non-null  int8   \n",
            " 30  payment_type           74250 non-null  int8   \n",
            " 31  water_quality          74250 non-null  int8   \n",
            " 32  quality_group          74250 non-null  int8   \n",
            " 33  quantity               74250 non-null  int8   \n",
            " 34  quantity_group         74250 non-null  int8   \n",
            " 35  source                 74250 non-null  int8   \n",
            " 36  source_type            74250 non-null  int8   \n",
            " 37  source_class           74250 non-null  int8   \n",
            " 38  waterpoint_type        74250 non-null  int8   \n",
            " 39  waterpoint_type_group  74250 non-null  int8   \n",
            "dtypes: float64(3), int16(5), int32(1), int64(7), int8(22), object(2)\n",
            "memory usage: 9.9+ MB\n"
          ]
        }
      ]
    },
    {
      "cell_type": "code",
      "metadata": {
        "id": "pUHp9cjN5R-k"
      },
      "source": [
        "data['date_recorded'] = pd.to_datetime(data['date_recorded'])\n",
        "data['date_recorded']=data['date_recorded'].astype('int64')//1e9\n",
        "data['year'] = pd.DatetimeIndex(data['date_recorded']).year\n",
        "data['month'] = pd.DatetimeIndex(data['date_recorded']).month\n",
        "#data.drop('date_recorded',axis=1,inplace=True)"
      ],
      "execution_count": 45,
      "outputs": []
    },
    {
      "cell_type": "code",
      "metadata": {
        "colab": {
          "base_uri": "https://localhost:8080/"
        },
        "id": "ZppuEsGYVHLC",
        "outputId": "af52aefd-9199-4991-cc83-b82f438b56e6"
      },
      "source": [
        "data['construction_year'].value_counts()"
      ],
      "execution_count": 46,
      "outputs": [
        {
          "output_type": "execute_result",
          "data": {
            "text/plain": [
              "0       25969\n",
              "2010     3314\n",
              "2008     3243\n",
              "2009     3196\n",
              "2000     2578\n",
              "2007     1960\n",
              "2006     1892\n",
              "2011     1591\n",
              "2003     1579\n",
              "2004     1417\n",
              "2012     1347\n",
              "2002     1343\n",
              "1995     1283\n",
              "2005     1275\n",
              "1978     1267\n",
              "1999     1222\n",
              "1998     1190\n",
              "1985     1177\n",
              "1990     1176\n",
              "1996     1020\n",
              "1980     1005\n",
              "1984      970\n",
              "1994      940\n",
              "1982      926\n",
              "1972      892\n",
              "1997      821\n",
              "1974      814\n",
              "1992      807\n",
              "1993      745\n",
              "2001      680\n",
              "1988      657\n",
              "1983      594\n",
              "1975      561\n",
              "1986      553\n",
              "1976      525\n",
              "1970      493\n",
              "1991      407\n",
              "1989      396\n",
              "1987      370\n",
              "1981      291\n",
              "1977      247\n",
              "1979      245\n",
              "1973      227\n",
              "2013      209\n",
              "1971      177\n",
              "1960      124\n",
              "1963      107\n",
              "1967      106\n",
              "1968       93\n",
              "1969       77\n",
              "1964       48\n",
              "1962       36\n",
              "1961       28\n",
              "1965       21\n",
              "1966       19\n",
              "Name: construction_year, dtype: int64"
            ]
          },
          "metadata": {},
          "execution_count": 46
        }
      ]
    },
    {
      "cell_type": "code",
      "metadata": {
        "id": "i-rNCcrOLlzb"
      },
      "source": [
        "data['operational_year'] = data['year'] - data['construction_year']\n",
        "# data['operational_year'] = 0\n",
        "# for i,row in data.iterrows():\n",
        "#     if (data.loc[i, 'construction_year'] == 0).any():\n",
        "#         data.loc[i, 'construction_year'] = data.loc[i, 'year'] - 5\n",
        "#         data.loc[i, 'operational_year'] = data.loc[i, 'year'] - data.loc[i, 'construction_year']\n",
        "#     else:\n",
        "#         data.loc[i, 'operational_year'] = data.loc[i, 'year'] - data.loc[i, 'construction_year']"
      ],
      "execution_count": 47,
      "outputs": []
    },
    {
      "cell_type": "code",
      "metadata": {
        "id": "HvlMjrL8a5p2"
      },
      "source": [
        "#data.operational_year = data.operational_year.abs()"
      ],
      "execution_count": 48,
      "outputs": []
    },
    {
      "cell_type": "code",
      "metadata": {
        "colab": {
          "base_uri": "https://localhost:8080/"
        },
        "id": "nQZSJVSOZwRq",
        "outputId": "c7c5d28f-7cbc-4eeb-a2f1-e2191d3921ae"
      },
      "source": [
        "data['operational_year'].value_counts()"
      ],
      "execution_count": 49,
      "outputs": [
        {
          "output_type": "execute_result",
          "data": {
            "text/plain": [
              " 1970    25969\n",
              "-40       3314\n",
              "-38       3243\n",
              "-39       3196\n",
              "-30       2578\n",
              "-37       1960\n",
              "-36       1892\n",
              "-41       1591\n",
              "-33       1579\n",
              "-34       1417\n",
              "-42       1347\n",
              "-32       1343\n",
              "-25       1283\n",
              "-35       1275\n",
              "-8        1267\n",
              "-29       1222\n",
              "-28       1190\n",
              "-15       1177\n",
              "-20       1176\n",
              "-26       1020\n",
              "-10       1005\n",
              "-14        970\n",
              "-24        940\n",
              "-12        926\n",
              "-2         892\n",
              "-27        821\n",
              "-4         814\n",
              "-22        807\n",
              "-23        745\n",
              "-31        680\n",
              "-18        657\n",
              "-13        594\n",
              "-5         561\n",
              "-16        553\n",
              "-6         525\n",
              " 0         493\n",
              "-21        407\n",
              "-19        396\n",
              "-17        370\n",
              "-11        291\n",
              "-7         247\n",
              "-9         245\n",
              "-3         227\n",
              "-43        209\n",
              "-1         177\n",
              " 10        124\n",
              " 7         107\n",
              " 3         106\n",
              " 2          93\n",
              " 1          77\n",
              " 6          48\n",
              " 8          36\n",
              " 9          28\n",
              " 5          21\n",
              " 4          19\n",
              "Name: operational_year, dtype: int64"
            ]
          },
          "metadata": {},
          "execution_count": 49
        }
      ]
    },
    {
      "cell_type": "code",
      "metadata": {
        "id": "nrUEljfrMXi5"
      },
      "source": [
        "data.drop(['year','month'],axis=1,inplace=True)"
      ],
      "execution_count": 50,
      "outputs": []
    },
    {
      "cell_type": "code",
      "metadata": {
        "id": "vWq7smk0NXtd"
      },
      "source": [
        ""
      ],
      "execution_count": 50,
      "outputs": []
    },
    {
      "cell_type": "code",
      "metadata": {
        "id": "FDv_GURl5oZb"
      },
      "source": [
        "data['region_code']=np.log10(data['region_code']+1)\n",
        "data['district_code']=np.log10(data['district_code']+1)\n",
        "data['gps_height']=np.log10(data['gps_height']+100)\n",
        "data['num_private']=np.log10(data['num_private']+1)\n",
        "data['population']=np.log10(data['population']+1)\n",
        "data['construction_year']=np.log10(data['construction_year']+1)\n",
        "data['amount_tsh'] = np.log(data['amount_tsh']+1)"
      ],
      "execution_count": 51,
      "outputs": []
    },
    {
      "cell_type": "code",
      "metadata": {
        "id": "9hQm37k7QJvd"
      },
      "source": [
        ""
      ],
      "execution_count": 51,
      "outputs": []
    },
    {
      "cell_type": "code",
      "metadata": {
        "id": "guWC6IZjNjIM"
      },
      "source": [
        "data['amt_pop'] = data.loc[:, 'amount_tsh']/(data.loc[:, 'population']+0.4)"
      ],
      "execution_count": 52,
      "outputs": []
    },
    {
      "cell_type": "code",
      "metadata": {
        "id": "pZ31eiNY5weX"
      },
      "source": [
        "#Dropping columns that are high correlated with other columns or they have large amount of missing values:\n",
        "data.drop(['id','recorded_by','source_type','waterpoint_type_group',\n",
        "            'scheme_name','extraction_type_class','quantity_group'], axis = 1, inplace = True)"
      ],
      "execution_count": 53,
      "outputs": []
    },
    {
      "cell_type": "code",
      "metadata": {
        "colab": {
          "base_uri": "https://localhost:8080/"
        },
        "id": "EVo-ebJZ6Saj",
        "outputId": "6de2a62d-3188-4bcd-f654-b12b4cd15918"
      },
      "source": [
        "data.index=range(0,len(data['funder']))    \n",
        "train=data.loc[0:len(train_df['funder'])-1,:]\n",
        "test=data.loc[len(train_df['funder']):,:]\n",
        "train.index=train_df.index\n",
        "test.index=test_df.index\n",
        "len(test['funder'])"
      ],
      "execution_count": 54,
      "outputs": [
        {
          "output_type": "execute_result",
          "data": {
            "text/plain": [
              "14850"
            ]
          },
          "metadata": {},
          "execution_count": 54
        }
      ]
    },
    {
      "cell_type": "markdown",
      "metadata": {
        "id": "_QS0HK_9peBC"
      },
      "source": [
        "# Model Training"
      ]
    },
    {
      "cell_type": "code",
      "metadata": {
        "id": "OABm4Jze6z7w"
      },
      "source": [
        "X_train, X_cv, Y_train, y_cv= train_test_split(\n",
        "        train,labels_df['status_group'], test_size=0.01, random_state=42)"
      ],
      "execution_count": 55,
      "outputs": []
    },
    {
      "cell_type": "code",
      "metadata": {
        "id": "0OladKzS7HOJ"
      },
      "source": [
        "clf_rf = RandomForestClassifier(n_estimators=600,max_depth=22,random_state=0)"
      ],
      "execution_count": 56,
      "outputs": []
    },
    {
      "cell_type": "code",
      "metadata": {
        "colab": {
          "base_uri": "https://localhost:8080/"
        },
        "id": "tT6k55a97OX0",
        "outputId": "d55d7779-0e6b-4af6-d75e-c8b895314ae2"
      },
      "source": [
        "clf_rf.fit(X_train, Y_train)"
      ],
      "execution_count": 57,
      "outputs": [
        {
          "output_type": "execute_result",
          "data": {
            "text/plain": [
              "RandomForestClassifier(bootstrap=True, ccp_alpha=0.0, class_weight=None,\n",
              "                       criterion='gini', max_depth=22, max_features='auto',\n",
              "                       max_leaf_nodes=None, max_samples=None,\n",
              "                       min_impurity_decrease=0.0, min_impurity_split=None,\n",
              "                       min_samples_leaf=1, min_samples_split=2,\n",
              "                       min_weight_fraction_leaf=0.0, n_estimators=600,\n",
              "                       n_jobs=None, oob_score=False, random_state=0, verbose=0,\n",
              "                       warm_start=False)"
            ]
          },
          "metadata": {},
          "execution_count": 57
        }
      ]
    },
    {
      "cell_type": "code",
      "metadata": {
        "colab": {
          "base_uri": "https://localhost:8080/"
        },
        "id": "8-RacIDK7Szk",
        "outputId": "a30fa6fb-8759-4175-a396-1c74ee59ff7c"
      },
      "source": [
        "print('train Accuarcy=====>',clf_rf.score(X_train, Y_train))"
      ],
      "execution_count": 58,
      "outputs": [
        {
          "output_type": "stream",
          "name": "stdout",
          "text": [
            "train Accuarcy=====> 0.9780804679794579\n"
          ]
        }
      ]
    },
    {
      "cell_type": "code",
      "metadata": {
        "colab": {
          "base_uri": "https://localhost:8080/"
        },
        "id": "bXoLmHhM8H6s",
        "outputId": "0d173075-cab6-41bd-8c4d-8b03d06f17e6"
      },
      "source": [
        "print('cross validation accuarcy=====>',clf_rf.score(X_cv, y_cv))"
      ],
      "execution_count": 59,
      "outputs": [
        {
          "output_type": "stream",
          "name": "stdout",
          "text": [
            "cross validation accuarcy=====> 0.8333333333333334\n"
          ]
        }
      ]
    },
    {
      "cell_type": "code",
      "metadata": {
        "id": "675IApI3sbsb"
      },
      "source": [
        "print(classification_report(y_cv,clf_rf.predict(X_cv)))"
      ],
      "execution_count": null,
      "outputs": []
    },
    {
      "cell_type": "code",
      "metadata": {
        "colab": {
          "base_uri": "https://localhost:8080/"
        },
        "id": "BslmfsObnGyp",
        "outputId": "a7398c8f-215e-40e1-9bee-187c0f807c93"
      },
      "source": [
        "abc = AdaBoostClassifier()\n",
        "abc.fit(X_train,Y_train)\n",
        "print('train Accuarcy=====>',abc.score(X_train, Y_train))\n",
        "print('cross validation accuarcy=====>',abc.score(X_cv, y_cv))\n",
        "print(classification_report(y_cv,abc.predict(X_cv)))"
      ],
      "execution_count": 75,
      "outputs": [
        {
          "output_type": "stream",
          "name": "stdout",
          "text": [
            "train Accuarcy=====> 0.7225963337074448\n",
            "cross validation accuarcy=====> 0.7255892255892256\n",
            "                         precision    recall  f1-score   support\n",
            "\n",
            "             functional       0.69      0.91      0.78       310\n",
            "functional needs repair       0.40      0.05      0.09        41\n",
            "         non functional       0.81      0.61      0.69       243\n",
            "\n",
            "               accuracy                           0.73       594\n",
            "              macro avg       0.63      0.52      0.52       594\n",
            "           weighted avg       0.72      0.73      0.70       594\n",
            "\n"
          ]
        }
      ]
    },
    {
      "cell_type": "code",
      "metadata": {
        "colab": {
          "base_uri": "https://localhost:8080/"
        },
        "id": "Rp39jT5uoL9b",
        "outputId": "4deffb51-ebd6-4e62-8666-79de5ad51883"
      },
      "source": [
        "gbc = GradientBoostingClassifier()\n",
        "gbc.fit(X_train,Y_train)\n",
        "print('train Accuarcy=====>',gbc.score(X_train, Y_train))\n",
        "print('cross validation accuarcy=====>',gbc.score(X_cv, y_cv))\n"
      ],
      "execution_count": 63,
      "outputs": [
        {
          "output_type": "stream",
          "name": "stdout",
          "text": [
            "train Accuarcy=====> 0.7555691596095636\n",
            "cross validation accuarcy=====> 0.7542087542087542\n"
          ]
        }
      ]
    },
    {
      "cell_type": "code",
      "metadata": {
        "colab": {
          "base_uri": "https://localhost:8080/"
        },
        "id": "BhmpPJYes2lU",
        "outputId": "5ab3407b-47b1-4ff0-acb6-6638c97ab66b"
      },
      "source": [
        "print(classification_report(y_cv,gbc.predict(X_cv)))"
      ],
      "execution_count": 79,
      "outputs": [
        {
          "output_type": "stream",
          "name": "stdout",
          "text": [
            "                         precision    recall  f1-score   support\n",
            "\n",
            "             functional       0.71      0.94      0.81       310\n",
            "functional needs repair       0.67      0.15      0.24        41\n",
            "         non functional       0.85      0.62      0.72       243\n",
            "\n",
            "               accuracy                           0.75       594\n",
            "              macro avg       0.74      0.57      0.59       594\n",
            "           weighted avg       0.77      0.75      0.73       594\n",
            "\n"
          ]
        }
      ]
    },
    {
      "cell_type": "code",
      "metadata": {
        "colab": {
          "base_uri": "https://localhost:8080/"
        },
        "id": "sErXVuEtpspT",
        "outputId": "d10e8239-f8bf-4d8e-f470-a2d9c7e6e846"
      },
      "source": [
        "from sklearn import tree \n",
        "# Decision Tree\n",
        "dt = tree.DecisionTreeClassifier()\n",
        "dt = dt.fit(X_train, Y_train)\n",
        "print('train Accuarcy=====>',dt.score(X_train, Y_train))\n",
        "print('cross validation accuarcy=====>',dt.score(X_cv, y_cv))\n",
        "\n"
      ],
      "execution_count": 66,
      "outputs": [
        {
          "output_type": "stream",
          "name": "stdout",
          "text": [
            "train Accuarcy=====> 0.9999829949324899\n",
            "cross validation accuarcy=====> 0.734006734006734\n"
          ]
        }
      ]
    },
    {
      "cell_type": "code",
      "metadata": {
        "colab": {
          "base_uri": "https://localhost:8080/"
        },
        "id": "sPRDBL1itqOx",
        "outputId": "c25d7782-ffde-41f8-8790-26aad5f08625"
      },
      "source": [
        "print(classification_report(y_cv,dt.predict(X_cv)))"
      ],
      "execution_count": 80,
      "outputs": [
        {
          "output_type": "stream",
          "name": "stdout",
          "text": [
            "                         precision    recall  f1-score   support\n",
            "\n",
            "             functional       0.77      0.78      0.77       310\n",
            "functional needs repair       0.30      0.37      0.33        41\n",
            "         non functional       0.79      0.74      0.76       243\n",
            "\n",
            "               accuracy                           0.73       594\n",
            "              macro avg       0.62      0.63      0.62       594\n",
            "           weighted avg       0.74      0.73      0.74       594\n",
            "\n"
          ]
        }
      ]
    },
    {
      "cell_type": "code",
      "metadata": {
        "colab": {
          "base_uri": "https://localhost:8080/"
        },
        "id": "zH2i7kvrqDse",
        "outputId": "8229272c-6c10-42e1-8bca-74045fb48345"
      },
      "source": [
        "from sklearn.neighbors import KNeighborsClassifier \n",
        "#KNN\n",
        "knn = KNeighborsClassifier(n_neighbors=10)\n",
        "knn.fit(X_train, Y_train)\n",
        "print('train Accuarcy=====>',knn.score(X_train, Y_train))\n",
        "print('cross validation accuarcy=====>',knn.score(X_cv, y_cv))\n"
      ],
      "execution_count": 81,
      "outputs": [
        {
          "output_type": "stream",
          "name": "stdout",
          "text": [
            "train Accuarcy=====> 0.6578750467639356\n",
            "cross validation accuarcy=====> 0.5791245791245792\n"
          ]
        }
      ]
    },
    {
      "cell_type": "code",
      "metadata": {
        "colab": {
          "base_uri": "https://localhost:8080/"
        },
        "id": "YqETJBDutsA0",
        "outputId": "7576a158-e38e-4f19-8ac1-6dcc8e75d0f3"
      },
      "source": [
        "print(classification_report(y_cv,knn.predict(X_cv)))"
      ],
      "execution_count": 82,
      "outputs": [
        {
          "output_type": "stream",
          "name": "stdout",
          "text": [
            "                         precision    recall  f1-score   support\n",
            "\n",
            "             functional       0.58      0.79      0.67       310\n",
            "functional needs repair       0.25      0.05      0.08        41\n",
            "         non functional       0.58      0.40      0.47       243\n",
            "\n",
            "               accuracy                           0.58       594\n",
            "              macro avg       0.47      0.41      0.41       594\n",
            "           weighted avg       0.56      0.58      0.55       594\n",
            "\n"
          ]
        }
      ]
    },
    {
      "cell_type": "code",
      "metadata": {
        "colab": {
          "base_uri": "https://localhost:8080/"
        },
        "id": "lfzbrjiNqZ8s",
        "outputId": "f53cd8cb-a140-498b-867d-f12982b1b1af"
      },
      "source": [
        "import xgboost \n",
        "from xgboost.sklearn import XGBClassifier \n",
        "# XGBoost\n",
        "clf_xgb = XGBClassifier(objective='multi:softmax')\n",
        "clf_xgb.fit(X_train,Y_train)\n",
        "print('train Accuarcy=====>',clf_xgb.score(X_train, Y_train))\n",
        "print('cross validation accuarcy=====>',clf_xgb.score(X_cv, y_cv))\n"
      ],
      "execution_count": 83,
      "outputs": [
        {
          "output_type": "stream",
          "name": "stdout",
          "text": [
            "train Accuarcy=====> 0.7476107880148284\n",
            "cross validation accuarcy=====> 0.7491582491582491\n"
          ]
        }
      ]
    },
    {
      "cell_type": "code",
      "metadata": {
        "colab": {
          "base_uri": "https://localhost:8080/"
        },
        "id": "Sf4ofE3PtuH2",
        "outputId": "6c2b4fa6-5534-4603-95fa-bb5c5c6daad6"
      },
      "source": [
        "print(classification_report(y_cv,clf_xgb.predict(X_cv)))"
      ],
      "execution_count": 84,
      "outputs": [
        {
          "output_type": "stream",
          "name": "stdout",
          "text": [
            "                         precision    recall  f1-score   support\n",
            "\n",
            "             functional       0.71      0.94      0.81       310\n",
            "functional needs repair       0.83      0.12      0.21        41\n",
            "         non functional       0.85      0.61      0.71       243\n",
            "\n",
            "               accuracy                           0.75       594\n",
            "              macro avg       0.80      0.56      0.58       594\n",
            "           weighted avg       0.77      0.75      0.73       594\n",
            "\n"
          ]
        }
      ]
    },
    {
      "cell_type": "code",
      "metadata": {
        "colab": {
          "base_uri": "https://localhost:8080/"
        },
        "id": "Tb3J9MLgqqsZ",
        "outputId": "0601c987-6ba1-4e03-c704-f491b2619e38"
      },
      "source": [
        "from sklearn.svm import LinearSVC \n",
        "# SVM\n",
        "clf_svm = LinearSVC(random_state=0)\n",
        "clf_svm.fit(X_train,Y_train)\n",
        "print('train Accuarcy=====>',clf_svm.score(X_train, Y_train))\n",
        "print('cross validation accuarcy=====>',clf_svm.score(X_cv, y_cv))\n"
      ],
      "execution_count": 85,
      "outputs": [
        {
          "output_type": "stream",
          "name": "stdout",
          "text": [
            "train Accuarcy=====> 0.3839914294459749\n",
            "cross validation accuarcy=====> 0.4090909090909091\n"
          ]
        },
        {
          "output_type": "stream",
          "name": "stderr",
          "text": [
            "/usr/local/lib/python3.7/dist-packages/sklearn/svm/_base.py:947: ConvergenceWarning: Liblinear failed to converge, increase the number of iterations.\n",
            "  \"the number of iterations.\", ConvergenceWarning)\n"
          ]
        }
      ]
    },
    {
      "cell_type": "code",
      "metadata": {
        "colab": {
          "base_uri": "https://localhost:8080/"
        },
        "id": "J52o36Z6tydy",
        "outputId": "00467187-2c52-43cc-9665-5a1b32473769"
      },
      "source": [
        "print(classification_report(y_cv,clf_svm.predict(X_cv)))"
      ],
      "execution_count": 86,
      "outputs": [
        {
          "output_type": "stream",
          "name": "stdout",
          "text": [
            "                         precision    recall  f1-score   support\n",
            "\n",
            "             functional       0.00      0.00      0.00       310\n",
            "functional needs repair       0.00      0.00      0.00        41\n",
            "         non functional       0.41      1.00      0.58       243\n",
            "\n",
            "               accuracy                           0.41       594\n",
            "              macro avg       0.14      0.33      0.19       594\n",
            "           weighted avg       0.17      0.41      0.24       594\n",
            "\n"
          ]
        },
        {
          "output_type": "stream",
          "name": "stderr",
          "text": [
            "/usr/local/lib/python3.7/dist-packages/sklearn/metrics/_classification.py:1272: UndefinedMetricWarning: Precision and F-score are ill-defined and being set to 0.0 in labels with no predicted samples. Use `zero_division` parameter to control this behavior.\n",
            "  _warn_prf(average, modifier, msg_start, len(result))\n"
          ]
        }
      ]
    },
    {
      "cell_type": "code",
      "metadata": {
        "colab": {
          "base_uri": "https://localhost:8080/"
        },
        "id": "fW64SRsnq5Za",
        "outputId": "bf5862f3-f79c-495d-9034-17558012a8f5"
      },
      "source": [
        "from sklearn.linear_model import SGDClassifier\n",
        "# Logistic Regression\n",
        "clf_lr = SGDClassifier(loss='log',random_state=0)\n",
        "clf_lr.fit(X_train,Y_train)\n",
        "print('train Accuarcy=====>',clf_lr.score(X_train, Y_train))\n",
        "print('cross validation accuarcy=====>',clf_lr.score(X_cv, y_cv))\n"
      ],
      "execution_count": 87,
      "outputs": [
        {
          "output_type": "stream",
          "name": "stdout",
          "text": [
            "train Accuarcy=====> 0.5432949018807605\n",
            "cross validation accuarcy=====> 0.5218855218855218\n"
          ]
        }
      ]
    },
    {
      "cell_type": "code",
      "metadata": {
        "colab": {
          "base_uri": "https://localhost:8080/"
        },
        "id": "evMtLq4kt02l",
        "outputId": "d87c7c0b-43c0-4b53-eef4-b06a1a00c0b6"
      },
      "source": [
        "print(classification_report(y_cv,clf_lr.predict(X_cv)))"
      ],
      "execution_count": 88,
      "outputs": [
        {
          "output_type": "stream",
          "name": "stdout",
          "text": [
            "                         precision    recall  f1-score   support\n",
            "\n",
            "             functional       0.52      1.00      0.69       310\n",
            "functional needs repair       0.00      0.00      0.00        41\n",
            "         non functional       0.00      0.00      0.00       243\n",
            "\n",
            "               accuracy                           0.52       594\n",
            "              macro avg       0.17      0.33      0.23       594\n",
            "           weighted avg       0.27      0.52      0.36       594\n",
            "\n"
          ]
        },
        {
          "output_type": "stream",
          "name": "stderr",
          "text": [
            "/usr/local/lib/python3.7/dist-packages/sklearn/metrics/_classification.py:1272: UndefinedMetricWarning: Precision and F-score are ill-defined and being set to 0.0 in labels with no predicted samples. Use `zero_division` parameter to control this behavior.\n",
            "  _warn_prf(average, modifier, msg_start, len(result))\n"
          ]
        }
      ]
    },
    {
      "cell_type": "code",
      "metadata": {
        "id": "17mWE6_RrzS0"
      },
      "source": [
        ""
      ],
      "execution_count": 88,
      "outputs": []
    },
    {
      "cell_type": "code",
      "metadata": {
        "id": "fpUIorBz8W2T"
      },
      "source": [
        "y_sub = test_df[['id']]\n",
        "y_preds = y_sub[['id']]\n",
        "y_preds['status_group'] = clf_rf.predict(test)"
      ],
      "execution_count": 89,
      "outputs": []
    },
    {
      "cell_type": "code",
      "metadata": {
        "id": "WYlWXMBv8yeH"
      },
      "source": [
        "y_preds.to_csv('submission_rf.csv', index=False)"
      ],
      "execution_count": 76,
      "outputs": []
    },
    {
      "cell_type": "code",
      "metadata": {
        "id": "O1kzt3J_9AXV"
      },
      "source": [
        ""
      ],
      "execution_count": null,
      "outputs": []
    }
  ]
}